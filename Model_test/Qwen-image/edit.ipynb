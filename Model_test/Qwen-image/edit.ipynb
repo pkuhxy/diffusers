{
 "cells": [
  {
   "cell_type": "code",
   "execution_count": 2,
   "id": "f68de911",
   "metadata": {},
   "outputs": [
    {
     "name": "stderr",
     "output_type": "stream",
     "text": [
      "Loading checkpoint shards: 100%|██████████| 4/4 [00:08<00:00,  2.01s/it]\n",
      "Loading checkpoint shards: 100%|██████████| 9/9 [00:25<00:00,  2.78s/it]s/it]\n",
      "Loading pipeline components...: 100%|██████████| 6/6 [00:35<00:00,  5.89s/it]\n"
     ]
    },
    {
     "name": "stdout",
     "output_type": "stream",
     "text": [
      "pipeline loaded\n"
     ]
    }
   ],
   "source": [
    "import os\n",
    "from PIL import Image\n",
    "import torch\n",
    "\n",
    "from diffusers import QwenImageEditPipeline\n",
    "\n",
    "pipeline = QwenImageEditPipeline.from_pretrained(\"/mnt/workspace/checkpoints/Qwen/Qwen-Image-Edit\")\n",
    "print(\"pipeline loaded\")\n",
    "pipeline.to(torch.bfloat16)\n",
    "pipeline.to(\"cuda\")\n",
    "pipeline.set_progress_bar_config(disable=None)\n",
    "\n"
   ]
  },
  {
   "cell_type": "code",
   "execution_count": 3,
   "id": "673918a4",
   "metadata": {},
   "outputs": [
    {
     "name": "stdout",
     "output_type": "stream",
     "text": [
      "image saved at /mnt/workspace/hxy/diffusers/Model_test/Qwen-image/output_image_edit.png\n"
     ]
    }
   ],
   "source": [
    "image = Image.open(\"/mnt/workspace/hxy/Geometry-R1/GeoLaux/data/mini_original_images/2_1.png\").convert(\"RGB\")\n",
    "prompt = \"Connect BE.\"\n",
    "inputs = {\n",
    "    \"image\": image,\n",
    "    \"prompt\": prompt,\n",
    "    \"generator\": torch.manual_seed(0),\n",
    "    \"true_cfg_scale\": 4.0,\n",
    "    \"negative_prompt\": \" \",\n",
    "    \"num_inference_steps\": 50,\n",
    "}\n",
    "\n",
    "with torch.inference_mode():\n",
    "    output = pipeline(**inputs)\n",
    "    output_image = output.images[0]\n",
    "    output_image.save(\"output_image_edit.png\")\n",
    "    print(\"image saved at\", os.path.abspath(\"output_image_edit.png\"))"
   ]
  }
 ],
 "metadata": {
  "kernelspec": {
   "display_name": "Python 3",
   "language": "python",
   "name": "python3"
  },
  "language_info": {
   "codemirror_mode": {
    "name": "ipython",
    "version": 3
   },
   "file_extension": ".py",
   "mimetype": "text/x-python",
   "name": "python",
   "nbconvert_exporter": "python",
   "pygments_lexer": "ipython3",
   "version": "3.11.11"
  }
 },
 "nbformat": 4,
 "nbformat_minor": 5
}
