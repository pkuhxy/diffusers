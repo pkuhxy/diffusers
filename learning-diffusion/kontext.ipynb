{
 "cells": [
  {
   "cell_type": "code",
   "execution_count": 1,
   "id": "44b7adce",
   "metadata": {},
   "outputs": [
    {
     "name": "stderr",
     "output_type": "stream",
     "text": [
      "/usr/local/lib/python3.11/site-packages/tqdm/auto.py:21: TqdmWarning: IProgress not found. Please update jupyter and ipywidgets. See https://ipywidgets.readthedocs.io/en/stable/user_install.html\n",
      "  from .autonotebook import tqdm as notebook_tqdm\n",
      "Loading checkpoint shards: 100%|██████████| 2/2 [00:00<00:00, 28.37it/s]\n",
      "Loading pipeline components...:  57%|█████▋    | 4/7 [00:00<00:00, 10.07it/s]You set `add_prefix_space`. The tokenizer needs to be converted from the slow tokenizers\n",
      "Loading checkpoint shards: 100%|██████████| 3/3 [00:00<00:00, 21.39it/s]it/s]\n",
      "Loading pipeline components...: 100%|██████████| 7/7 [00:01<00:00,  3.91it/s]\n"
     ]
    },
    {
     "data": {
      "text/plain": [
       "FluxKontextPipeline {\n",
       "  \"_class_name\": \"FluxKontextPipeline\",\n",
       "  \"_diffusers_version\": \"0.35.0.dev0\",\n",
       "  \"_name_or_path\": \"/mnt/workspace/checkpoints/black-forest-labs/FLUX.1-Kontext-dev\",\n",
       "  \"feature_extractor\": [\n",
       "    null,\n",
       "    null\n",
       "  ],\n",
       "  \"image_encoder\": [\n",
       "    null,\n",
       "    null\n",
       "  ],\n",
       "  \"scheduler\": [\n",
       "    \"diffusers\",\n",
       "    \"FlowMatchEulerDiscreteScheduler\"\n",
       "  ],\n",
       "  \"text_encoder\": [\n",
       "    \"transformers\",\n",
       "    \"CLIPTextModel\"\n",
       "  ],\n",
       "  \"text_encoder_2\": [\n",
       "    \"transformers\",\n",
       "    \"T5EncoderModel\"\n",
       "  ],\n",
       "  \"tokenizer\": [\n",
       "    \"transformers\",\n",
       "    \"CLIPTokenizer\"\n",
       "  ],\n",
       "  \"tokenizer_2\": [\n",
       "    \"transformers\",\n",
       "    \"T5TokenizerFast\"\n",
       "  ],\n",
       "  \"transformer\": [\n",
       "    \"diffusers\",\n",
       "    \"FluxTransformer2DModel\"\n",
       "  ],\n",
       "  \"vae\": [\n",
       "    \"diffusers\",\n",
       "    \"AutoencoderKL\"\n",
       "  ]\n",
       "}"
      ]
     },
     "execution_count": 1,
     "metadata": {},
     "output_type": "execute_result"
    }
   ],
   "source": [
    "import torch\n",
    "from diffusers import FluxKontextPipeline\n",
    "from diffusers.utils import load_image\n",
    "\n",
    "pipe = FluxKontextPipeline.from_pretrained(\"/mnt/workspace/checkpoints/black-forest-labs/FLUX.1-Kontext-dev\", torch_dtype=torch.bfloat16)\n",
    "pipe.to(\"cuda:1\")\n",
    "\n"
   ]
  },
  {
   "cell_type": "code",
   "execution_count": 6,
   "id": "90682a2d",
   "metadata": {},
   "outputs": [
    {
     "name": "stderr",
     "output_type": "stream",
     "text": [
      "100%|██████████| 1/1 [00:00<00:00,  1.49it/s]\n"
     ]
    },
    {
     "name": "stdout",
     "output_type": "stream",
     "text": [
      "latents.shape torch.Size([1, 4096, 64])\n",
      "image_latents.shape torch.Size([1, 4096, 64])\n",
      "<PIL.Image.Image image mode=RGB size=1024x1024 at 0x7FD24A686410>\n"
     ]
    }
   ],
   "source": [
    "input_image = load_image(\"/mnt/workspace/hxy/diffusers/learning-diffusion/kontext_output/cat.png\")\n",
    "\n",
    "image,image_latent = pipe(\n",
    "  image=input_image,\n",
    "  prompt=\"Add a hat to the cat\",\n",
    "  guidance_scale=2.5,\n",
    "  num_inference_steps=1,\n",
    "  if_output_image_latents=True,\n",
    "  # output_type=\"latent\",\n",
    ")\n",
    "\n",
    "print(image_latent[0])\n",
    "\n",
    "image_latent[0].save(\"/mnt/workspace/hxy/diffusers/learning-diffusion/kontext_output/cat_with_hat_vae.png\")\n",
    "# import pdb;pdb.set_trace()\n",
    "\n",
    "# image.save(\"/mnt/workspace/hxy/diffusers/learning-diffusion/kontext_output/cat_with_hat.png\")"
   ]
  },
  {
   "cell_type": "code",
   "execution_count": 12,
   "id": "f6ecc323",
   "metadata": {},
   "outputs": [],
   "source": [
    "\n",
    "\n",
    "for i, noise_image in enumerate(noise_images):\n",
    "    noise_image[0].save(f\"/mnt/workspace/hxy/diffusers/learning-diffusion/kontext_output/cat_with_hat_noise/{i}.png\")"
   ]
  },
  {
   "cell_type": "code",
   "execution_count": 8,
   "id": "03d806e7",
   "metadata": {},
   "outputs": [
    {
     "name": "stdout",
     "output_type": "stream",
     "text": [
      "图片分辨率：1024 x 704 像素\n"
     ]
    }
   ],
   "source": [
    "from PIL import Image\n",
    "\n",
    "# 读取图片\n",
    "image_path = \"/mnt/workspace/hxy/diffusers/learning-diffusion/kontext_output/cat.png\"  # 替换为你的图片路径\n",
    "try:\n",
    "    with Image.open(image_path) as img:\n",
    "        # 获取图片分辨率（宽度 x 高度）\n",
    "        width, height = img.size\n",
    "        print(f\"图片分辨率：{width} x {height} 像素\")\n",
    "except Exception as e:\n",
    "    print(f\"读取图片失败：{e}\")\n"
   ]
  }
 ],
 "metadata": {
  "kernelspec": {
   "display_name": "Python 3",
   "language": "python",
   "name": "python3"
  },
  "language_info": {
   "codemirror_mode": {
    "name": "ipython",
    "version": 3
   },
   "file_extension": ".py",
   "mimetype": "text/x-python",
   "name": "python",
   "nbconvert_exporter": "python",
   "pygments_lexer": "ipython3",
   "version": "3.11.11"
  }
 },
 "nbformat": 4,
 "nbformat_minor": 5
}
